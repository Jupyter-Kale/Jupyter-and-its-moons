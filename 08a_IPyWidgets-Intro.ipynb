{
 "cells": [
  {
   "cell_type": "markdown",
   "metadata": {
    "slideshow": {
     "slide_type": "slide"
    }
   },
   "source": [
    "# Jupyter Widgets Tutorial"
   ]
  },
  {
   "cell_type": "markdown",
   "metadata": {
    "slideshow": {
     "slide_type": "fragment"
    }
   },
   "source": [
    "## Table of Contents\n",
    "- [Section 1: Intro](#Section-1:-Intro)\n",
    "- [Section 2: Traitlets](#Section-2:-Traitlets)\n",
    "- [Section 3: Widget List](#Section-3:-Widget-List)\n",
    "- [Section 4: Visualization Libraries](#Section-4:-Visualization-Libraries)\n",
    "    - [bqplot](#Visualization-Libraries:-bqplot)\n",
    "    - [IPyVolume](#Visualization-Libraries:-IPyVolume)\n",
    "    - [IPyLeaflets](#Visualization-Libraries:-IPyLeaflets)\n",
    "- [Section 5: Demo](#Section-5:-Demo)\n",
    "    - [Kelp](http://localhost:8889)\n",
    "    - [Droplet](http://localhost:8889)"
   ]
  },
  {
   "cell_type": "markdown",
   "metadata": {
    "slideshow": {
     "slide_type": "slide"
    }
   },
   "source": [
    "# Section 1: Intro"
   ]
  },
  {
   "cell_type": "markdown",
   "metadata": {},
   "source": [
    "## Why widgets?"
   ]
  },
  {
   "cell_type": "markdown",
   "metadata": {},
   "source": [
    "- \"Reduce the distance between user and data\""
   ]
  },
  {
   "cell_type": "markdown",
   "metadata": {},
   "source": [
    "## Similar software"
   ]
  },
  {
   "cell_type": "markdown",
   "metadata": {},
   "source": [
    "- Mathematica\n",
    "- Plotly\n",
    "- Matlab?"
   ]
  },
  {
   "cell_type": "markdown",
   "metadata": {},
   "source": [
    "## Installation"
   ]
  },
  {
   "cell_type": "markdown",
   "metadata": {},
   "source": [
    "## Overview"
   ]
  },
  {
   "cell_type": "markdown",
   "metadata": {
    "slideshow": {
     "slide_type": "slide"
    }
   },
   "source": [
    "# Section 2: Traitlets"
   ]
  },
  {
   "cell_type": "markdown",
   "metadata": {
    "slideshow": {
     "slide_type": "fragment"
    }
   },
   "source": [
    "- Objects which can react to having values assigned"
   ]
  },
  {
   "cell_type": "code",
   "execution_count": 175,
   "metadata": {
    "slideshow": {
     "slide_type": "fragment"
    }
   },
   "outputs": [],
   "source": [
    "import traitlets as tr"
   ]
  },
  {
   "cell_type": "markdown",
   "metadata": {
    "slideshow": {
     "slide_type": "slide"
    }
   },
   "source": [
    "## Links"
   ]
  },
  {
   "cell_type": "code",
   "execution_count": 176,
   "metadata": {
    "slideshow": {
     "slide_type": "fragment"
    }
   },
   "outputs": [],
   "source": [
    "class NiceKid(tr.HasTraits):\n",
    "    best_color = tr.Unicode()\n",
    "    \n",
    "    def __init__(self, best_color):\n",
    "        self.best_color = best_color\n",
    "        self.friend = None\n",
    "    \n",
    "    def make_friends(self, friend):\n",
    "        if self.friend is not None:\n",
    "            self.link.unlink()\n",
    "            \n",
    "        self.friend = friend\n",
    "            \n",
    "        self.link = tr.link(\n",
    "            (self, 'best_color'),\n",
    "            (self.friend, 'best_color')\n",
    "        )\n",
    "        \n",
    "    def say_color(self):\n",
    "        print(\"My favorite color is {}\".format(\n",
    "            self.best_color\n",
    "        ))"
   ]
  },
  {
   "cell_type": "code",
   "execution_count": 177,
   "metadata": {
    "slideshow": {
     "slide_type": "subslide"
    }
   },
   "outputs": [
    {
     "name": "stdout",
     "output_type": "stream",
     "text": [
      "My favorite color is blue\n",
      "My favorite color is green\n"
     ]
    }
   ],
   "source": [
    "jim = NiceKid('blue')\n",
    "jane = NiceKid('green')\n",
    "jim.say_color()\n",
    "jane.say_color()"
   ]
  },
  {
   "cell_type": "code",
   "execution_count": 178,
   "metadata": {
    "slideshow": {
     "slide_type": "fragment"
    }
   },
   "outputs": [
    {
     "name": "stdout",
     "output_type": "stream",
     "text": [
      "My favorite color is red\n",
      "My favorite color is red\n"
     ]
    }
   ],
   "source": [
    "jim.make_friends(jane)\n",
    "\n",
    "jim.best_color = 'red'\n",
    "jim.say_color()\n",
    "jane.say_color()"
   ]
  },
  {
   "cell_type": "code",
   "execution_count": 179,
   "metadata": {
    "slideshow": {
     "slide_type": "fragment"
    }
   },
   "outputs": [
    {
     "name": "stdout",
     "output_type": "stream",
     "text": [
      "My favorite color is aquamarine\n",
      "My favorite color is aquamarine\n"
     ]
    }
   ],
   "source": [
    "jane.best_color = 'aquamarine'\n",
    "jim.say_color()\n",
    "jane.say_color()"
   ]
  },
  {
   "cell_type": "markdown",
   "metadata": {
    "slideshow": {
     "slide_type": "slide"
    }
   },
   "source": [
    "## Directional Links"
   ]
  },
  {
   "cell_type": "code",
   "execution_count": 180,
   "metadata": {
    "slideshow": {
     "slide_type": "fragment"
    }
   },
   "outputs": [],
   "source": [
    "class MeanKid(tr.HasTraits):\n",
    "    best_color = tr.Unicode()\n",
    "    worst_color = tr.Unicode(allow_none=True)\n",
    "    \n",
    "    def __init__(self, best_color):\n",
    "        self.best_color = best_color\n",
    "        self.worst_color = None\n",
    "        self.enemy = None\n",
    "    \n",
    "    def make_enemy(self,enemy):\n",
    "        if self.enemy is not None:\n",
    "            self.link.unlink()\n",
    "            \n",
    "        self.enemy = enemy\n",
    "            \n",
    "        self.link = tr.dlink(\n",
    "            (self.enemy, 'best_color'),\n",
    "            (self, 'worst_color')\n",
    "        )\n",
    "        \n",
    "    def say_color(self):\n",
    "        print(\"My favorite color is {}\".format(\n",
    "            self.best_color\n",
    "        ))\n",
    "        if self.worst_color is not None:\n",
    "            print(\"The worst color is {}!\".format(\n",
    "                self.worst_color\n",
    "            ))"
   ]
  },
  {
   "cell_type": "code",
   "execution_count": 181,
   "metadata": {
    "slideshow": {
     "slide_type": "subslide"
    }
   },
   "outputs": [
    {
     "name": "stdout",
     "output_type": "stream",
     "text": [
      "My favorite color is chartreuse\n"
     ]
    }
   ],
   "source": [
    "carl = MeanKid('chartreuse')\n",
    "carl.say_color()"
   ]
  },
  {
   "cell_type": "code",
   "execution_count": 182,
   "metadata": {},
   "outputs": [
    {
     "name": "stdout",
     "output_type": "stream",
     "text": [
      "My favorite color is aquamarine\n"
     ]
    }
   ],
   "source": [
    "jim.say_color()"
   ]
  },
  {
   "cell_type": "code",
   "execution_count": 183,
   "metadata": {
    "slideshow": {
     "slide_type": "fragment"
    }
   },
   "outputs": [
    {
     "name": "stdout",
     "output_type": "stream",
     "text": [
      "My favorite color is chartreuse\n",
      "The worst color is aquamarine!\n"
     ]
    }
   ],
   "source": [
    "carl.make_enemy(jim)\n",
    "carl.say_color()"
   ]
  },
  {
   "cell_type": "code",
   "execution_count": 184,
   "metadata": {
    "slideshow": {
     "slide_type": "fragment"
    }
   },
   "outputs": [
    {
     "name": "stdout",
     "output_type": "stream",
     "text": [
      "My favorite color is chartreuse\n",
      "The worst color is blue!\n"
     ]
    }
   ],
   "source": [
    "jim.best_color = 'blue'\n",
    "carl.say_color()"
   ]
  },
  {
   "cell_type": "code",
   "execution_count": 185,
   "metadata": {
    "slideshow": {
     "slide_type": "fragment"
    }
   },
   "outputs": [
    {
     "name": "stdout",
     "output_type": "stream",
     "text": [
      "My favorite color is blue\n"
     ]
    }
   ],
   "source": [
    "carl.worst_color = 'yellow'\n",
    "jim.say_color()"
   ]
  },
  {
   "cell_type": "markdown",
   "metadata": {
    "slideshow": {
     "slide_type": "slide"
    }
   },
   "source": [
    "## Observe"
   ]
  },
  {
   "cell_type": "code",
   "execution_count": 186,
   "metadata": {
    "slideshow": {
     "slide_type": "fragment"
    }
   },
   "outputs": [],
   "source": [
    "class Citizen(tr.HasTraits):\n",
    "    country = tr.Unicode()\n",
    "    language = tr.Unicode()\n",
    "    \n",
    "    language_dict = {\n",
    "        'England': 'English',\n",
    "        'Germany': 'German',\n",
    "    }\n",
    "    \n",
    "    def __init__(self, country):\n",
    "        self.country = country\n",
    "        self.set_language()\n",
    "        self.observe(self.set_language, names='country')\n",
    "        \n",
    "    def greet(self):\n",
    "        print(\"Hello! I'm from {} and I speak {}.\".format(\n",
    "            self.country, \n",
    "            self.language\n",
    "        ))\n",
    "        \n",
    "    # tr.HasTraits.observe passes an argument describing the change that occurred\n",
    "    # We don't need that here, so we'll lump it into *args and ignore it.\n",
    "    def set_language(self, *args):\n",
    "        self.language = self.language = self.language_dict[self.country]\n",
    "        print(args)"
   ]
  },
  {
   "cell_type": "code",
   "execution_count": 187,
   "metadata": {
    "slideshow": {
     "slide_type": "subslide"
    }
   },
   "outputs": [
    {
     "name": "stdout",
     "output_type": "stream",
     "text": [
      "()\n",
      "Hello! I'm from England and I speak English.\n"
     ]
    }
   ],
   "source": [
    "fred = Citizen('England')\n",
    "fred.greet()"
   ]
  },
  {
   "cell_type": "code",
   "execution_count": 188,
   "metadata": {
    "slideshow": {
     "slide_type": "fragment"
    }
   },
   "outputs": [
    {
     "name": "stdout",
     "output_type": "stream",
     "text": [
      "({'type': 'change', 'name': 'country', 'owner': <__main__.Citizen object at 0x7fd23a010710>, 'new': 'Germany', 'old': 'England'},)\n",
      "Hello! I'm from Germany and I speak German.\n"
     ]
    }
   ],
   "source": [
    "fred.country = 'Germany'\n",
    "fred.greet()"
   ]
  },
  {
   "cell_type": "markdown",
   "metadata": {
    "slideshow": {
     "slide_type": "slide"
    }
   },
   "source": [
    "# Section 3: Widget List"
   ]
  },
  {
   "cell_type": "markdown",
   "metadata": {
    "slideshow": {
     "slide_type": "fragment"
    }
   },
   "source": [
    "[Widget List](08b_IPyWidgets-Widget-List.ipynb)"
   ]
  },
  {
   "cell_type": "markdown",
   "metadata": {},
   "source": [
    "# Section 3.5: IPyWidgets Basics"
   ]
  },
  {
   "cell_type": "code",
   "execution_count": 189,
   "metadata": {},
   "outputs": [],
   "source": [
    "import ipywidgets as ipw"
   ]
  },
  {
   "cell_type": "code",
   "execution_count": 190,
   "metadata": {},
   "outputs": [],
   "source": [
    "def f(x):\n",
    "    return 4*x + 3"
   ]
  },
  {
   "cell_type": "code",
   "execution_count": 191,
   "metadata": {},
   "outputs": [
    {
     "data": {
      "application/vnd.jupyter.widget-view+json": {
       "model_id": "605ce27235444d94a089774c5c9e0571",
       "version_major": 2,
       "version_minor": 0
      },
      "text/plain": [
       "A Jupyter Widget"
      ]
     },
     "metadata": {},
     "output_type": "display_data"
    }
   ],
   "source": [
    "ipw.interact(f, x=(1,5));"
   ]
  },
  {
   "cell_type": "markdown",
   "metadata": {
    "slideshow": {
     "slide_type": "slide"
    }
   },
   "source": [
    "# Section 4: Visualization Libraries"
   ]
  },
  {
   "cell_type": "markdown",
   "metadata": {
    "slideshow": {
     "slide_type": "slide"
    }
   },
   "source": [
    "# Visualization Libraries: bqplot"
   ]
  },
  {
   "cell_type": "markdown",
   "metadata": {
    "slideshow": {
     "slide_type": "fragment"
    }
   },
   "source": [
    "- 2D plotting based on d3.js"
   ]
  },
  {
   "cell_type": "markdown",
   "metadata": {
    "slideshow": {
     "slide_type": "fragment"
    }
   },
   "source": [
    "- Declarative (like ggplot), as opposed to imperative (like matplotlib)"
   ]
  },
  {
   "cell_type": "markdown",
   "metadata": {
    "slideshow": {
     "slide_type": "fragment"
    }
   },
   "source": [
    "- Traitful, and built with widgets in mind!"
   ]
  },
  {
   "cell_type": "code",
   "execution_count": 192,
   "metadata": {},
   "outputs": [],
   "source": [
    "import bqplot as bq\n",
    "from numpy import *"
   ]
  },
  {
   "cell_type": "code",
   "execution_count": 193,
   "metadata": {
    "slideshow": {
     "slide_type": "slide"
    }
   },
   "outputs": [],
   "source": [
    "x = linspace(0, 1, 101)\n",
    "y = sin(4*pi*x)"
   ]
  },
  {
   "cell_type": "code",
   "execution_count": 194,
   "metadata": {},
   "outputs": [],
   "source": [
    "xscale = bq.LinearScale()\n",
    "yscale = bq.LinearScale()\n",
    "\n",
    "xax = bq.Axis(scale=xscale)\n",
    "yax = bq.Axis(scale=yscale, orientation='vertical')\n",
    "\n",
    "line = bq.Lines(\n",
    "    x=x,\n",
    "    y=y,\n",
    "    scales={\n",
    "        'x': xscale,\n",
    "        'y': yscale\n",
    "    },\n",
    ")\n",
    "bqfig = bq.Figure(\n",
    "    axes=(xax, yax),\n",
    "    marks=[line],\n",
    "    animation_duration=500\n",
    ")"
   ]
  },
  {
   "cell_type": "code",
   "execution_count": 195,
   "metadata": {},
   "outputs": [
    {
     "data": {
      "application/vnd.jupyter.widget-view+json": {
       "model_id": "cc6d2844d89548c09efab609c65d1f51",
       "version_major": 2,
       "version_minor": 0
      },
      "text/plain": [
       "A Jupyter Widget"
      ]
     },
     "metadata": {},
     "output_type": "display_data"
    }
   ],
   "source": [
    "bqfig"
   ]
  },
  {
   "cell_type": "code",
   "execution_count": 196,
   "metadata": {},
   "outputs": [],
   "source": [
    "line.y = cos(4*pi*x)"
   ]
  },
  {
   "cell_type": "code",
   "execution_count": 197,
   "metadata": {},
   "outputs": [],
   "source": [
    "omega_slider = ipw.IntSlider(\n",
    "    description=r'$\\omega$',\n",
    "    min=1,\n",
    "    max=20\n",
    ")\n",
    "\n",
    "def update_line(*args):\n",
    "    omega = omega_slider.value\n",
    "    line.y = cos(omega * x)\n",
    "\n",
    "omega_slider.observe(update_line, names='value')"
   ]
  },
  {
   "cell_type": "code",
   "execution_count": 198,
   "metadata": {
    "scrolled": false
   },
   "outputs": [
    {
     "data": {
      "application/vnd.jupyter.widget-view+json": {
       "model_id": "f4434f641ce64574b25cce5f6c23b196",
       "version_major": 2,
       "version_minor": 0
      },
      "text/plain": [
       "A Jupyter Widget"
      ]
     },
     "metadata": {},
     "output_type": "display_data"
    }
   ],
   "source": [
    "ipw.VBox([\n",
    "    omega_slider,\n",
    "    bqfig\n",
    "])"
   ]
  },
  {
   "cell_type": "markdown",
   "metadata": {
    "slideshow": {
     "slide_type": "slide"
    }
   },
   "source": [
    "# Visualization Libraries: IPyVolume"
   ]
  },
  {
   "cell_type": "code",
   "execution_count": 199,
   "metadata": {},
   "outputs": [],
   "source": [
    "import ipyvolume as ipv\n",
    "from numpy import *"
   ]
  },
  {
   "cell_type": "code",
   "execution_count": 200,
   "metadata": {},
   "outputs": [],
   "source": [
    "x = linspace(0,1,101)\n",
    "y = linspace(0,1,101)\n",
    "z = linspace(0,1,101)"
   ]
  },
  {
   "cell_type": "code",
   "execution_count": 201,
   "metadata": {},
   "outputs": [
    {
     "data": {
      "application/vnd.jupyter.widget-view+json": {
       "model_id": "02c46e44ce384ef385a41e5610889309",
       "version_major": 2,
       "version_minor": 0
      },
      "text/plain": [
       "A Jupyter Widget"
      ]
     },
     "metadata": {},
     "output_type": "display_data"
    }
   ],
   "source": [
    "X, Y = meshgrid(x, y)\n",
    "Z1 = exp(Y) * (cos(4*pi*X) + cos(4*pi*Y))\n",
    "Z2 = exp(X) * (cos(4*pi*(X+1/4)) + cos(4*pi*(Y+1/4)))\n",
    "ipv.figure()\n",
    "ipv.plot_surface(X,Y,Z1, color='red')\n",
    "ipv.plot_surface(X,Y,Z2, color='blue')\n",
    "ipv.show()"
   ]
  },
  {
   "cell_type": "code",
   "execution_count": 202,
   "metadata": {
    "scrolled": false
   },
   "outputs": [
    {
     "data": {
      "application/vnd.jupyter.widget-view+json": {
       "model_id": "b4934069f81e4afcbfd1e8adef9cbb46",
       "version_major": 2,
       "version_minor": 0
      },
      "text/plain": [
       "A Jupyter Widget"
      ]
     },
     "metadata": {},
     "output_type": "display_data"
    }
   ],
   "source": [
    "X,Y,Z = meshgrid(x,y,z)\n",
    "\n",
    "F = sin(4*pi*X) + sin(4*pi*Y) + Z\n",
    "\n",
    "box = ipv.quickvolshow(F)\n",
    "controls, fig = box.children\n",
    "box"
   ]
  },
  {
   "cell_type": "code",
   "execution_count": 203,
   "metadata": {},
   "outputs": [
    {
     "name": "stderr",
     "output_type": "stream",
     "text": [
      "/home/oliver/local/miniconda3/lib/python3.5/site-packages/ipykernel/__main__.py:1: RuntimeWarning: divide by zero encountered in true_divide\n",
      "  if __name__ == '__main__':\n",
      "/home/oliver/local/miniconda3/lib/python3.5/site-packages/ipykernel/__main__.py:1: RuntimeWarning: invalid value encountered in true_divide\n",
      "  if __name__ == '__main__':\n"
     ]
    }
   ],
   "source": [
    "fig.volume_data = fig.volume_data / Z"
   ]
  },
  {
   "cell_type": "markdown",
   "metadata": {
    "slideshow": {
     "slide_type": "slide"
    }
   },
   "source": [
    "# Visualization Libraries: IPyLeaflet"
   ]
  },
  {
   "cell_type": "code",
   "execution_count": 204,
   "metadata": {},
   "outputs": [],
   "source": [
    "import ipyleaflet as ipl\n",
    "import json"
   ]
  },
  {
   "cell_type": "code",
   "execution_count": 205,
   "metadata": {
    "scrolled": false
   },
   "outputs": [
    {
     "data": {
      "application/vnd.jupyter.widget-view+json": {
       "model_id": "6a6caa0ee2904fe0a01a4528967b9870",
       "version_major": 2,
       "version_minor": 0
      },
      "text/plain": [
       "A Jupyter Widget"
      ]
     },
     "metadata": {},
     "output_type": "display_data"
    }
   ],
   "source": [
    "center = [42.276880107831104, -83.73809337615967]\n",
    "zoom = 17\n",
    "m = ipl.Map(center=center, zoom=zoom)\n",
    "m"
   ]
  },
  {
   "cell_type": "code",
   "execution_count": 206,
   "metadata": {},
   "outputs": [
    {
     "data": {
      "application/vnd.jupyter.widget-view+json": {
       "model_id": "80b0d370ae954b068001a09e9551e044",
       "version_major": 2,
       "version_minor": 0
      },
      "text/plain": [
       "A Jupyter Widget"
      ]
     },
     "metadata": {},
     "output_type": "display_data"
    }
   ],
   "source": [
    "m.interact(zoom=(5,20,1))"
   ]
  },
  {
   "cell_type": "code",
   "execution_count": 207,
   "metadata": {},
   "outputs": [
    {
     "data": {
      "application/vnd.jupyter.widget-view+json": {
       "model_id": "6a6caa0ee2904fe0a01a4528967b9870",
       "version_major": 2,
       "version_minor": 0
      },
      "text/plain": [
       "A Jupyter Widget"
      ]
     },
     "metadata": {},
     "output_type": "display_data"
    }
   ],
   "source": [
    "m"
   ]
  },
  {
   "cell_type": "code",
   "execution_count": 208,
   "metadata": {},
   "outputs": [],
   "source": [
    "mark = ipl.Marker(location=m.center)\n",
    "m += mark"
   ]
  },
  {
   "cell_type": "code",
   "execution_count": 209,
   "metadata": {},
   "outputs": [
    {
     "data": {
      "application/vnd.jupyter.widget-view+json": {
       "model_id": "ce60e64550ef43528c24f73586baccb7",
       "version_major": 2,
       "version_minor": 0
      },
      "text/plain": [
       "A Jupyter Widget"
      ]
     },
     "metadata": {},
     "output_type": "display_data"
    }
   ],
   "source": [
    "mark.interact(opacity=(0.0,1.0,0.01))"
   ]
  },
  {
   "cell_type": "markdown",
   "metadata": {
    "slideshow": {
     "slide_type": "slide"
    }
   },
   "source": [
    "# Demos"
   ]
  },
  {
   "cell_type": "markdown",
   "metadata": {},
   "source": [
    "- My use cases from my research\n",
    "- These involve a lot of moving parts, so best to just link to other server where they're running"
   ]
  },
  {
   "cell_type": "markdown",
   "metadata": {},
   "source": [
    "- [Kelp](http://localhost:8889)\n",
    "- [Droplet](http://localhost:8889)"
   ]
  },
  {
   "cell_type": "markdown",
   "metadata": {
    "slideshow": {
     "slide_type": "slide"
    }
   },
   "source": [
    "# Example Widget"
   ]
  },
  {
   "cell_type": "markdown",
   "metadata": {
    "slideshow": {
     "slide_type": "slide"
    }
   },
   "source": [
    "Let's make a widget dashboard with two figures:\n",
    "1. A volume plot of a function with, say, two parameters\n",
    "    - A plane through the volume plot\n",
    "2. A separate 2D plot with contours of the volume data intersected with the plane"
   ]
  },
  {
   "cell_type": "code",
   "execution_count": 210,
   "metadata": {},
   "outputs": [
    {
     "ename": "IndentationError",
     "evalue": "expected an indented block (<ipython-input-210-4943c2f24450>, line 87)",
     "output_type": "error",
     "traceback": [
      "\u001b[0;36m  File \u001b[0;32m\"<ipython-input-210-4943c2f24450>\"\u001b[0;36m, line \u001b[0;32m87\u001b[0m\n\u001b[0;31m    ipv.plot_trisurf(\u001b[0m\n\u001b[0m      ^\u001b[0m\n\u001b[0;31mIndentationError\u001b[0m\u001b[0;31m:\u001b[0m expected an indented block\n"
     ]
    }
   ],
   "source": [
    "class VolumeCutWidget(ipw.VBox):\n",
    "    def __init__(self, func_3d):\n",
    "        self.func_3d = func_3d\n",
    "        \n",
    "        # Very important! If you don't\n",
    "        # call VBox's constructor, your\n",
    "        # widget won't be registered and \n",
    "        # it won't render!\n",
    "        super().__init__()\n",
    "        \n",
    "        self.init_vals()\n",
    "        self.init_elements()\n",
    "        self.init_layout()\n",
    "        #self.init_logic()\n",
    "        self.update_volume_plot()\n",
    "    \n",
    "    def init_vals(self):\n",
    "        # linspaces\n",
    "        self.x = linspace(0, 1, 101)\n",
    "        self.y = linspace(0, 1, 101)\n",
    "        self.z = linspace(0, 1, 101)\n",
    "        \n",
    "        # Volume meshgrids\n",
    "        self.vX, self.vY, self.vZ = meshgrid(\n",
    "            self.x,\n",
    "            self.y,\n",
    "            self.z\n",
    "        )\n",
    "        \n",
    "        # Color meshgrids\n",
    "        self.cX, self.cY = meshgrid(\n",
    "            self.x,\n",
    "            self.z\n",
    "        )\n",
    "        \n",
    "    def init_elements(self):\n",
    "        self.title = ipw.HTML(\"<h3>Volume Cut Widget</h3>\")\n",
    "        self.ipv_fig = ipv.figure()\n",
    "        self.init_bq_fig()\n",
    "        \n",
    "    def init_bq_fig(self):\n",
    "        self.bq_xscale = bq.LinearScale()\n",
    "        self.bq_yscale = bq.LinearScale()\n",
    "        self.bq_colorscale = bq.ColorScale()\n",
    "        self.bq_xax = bq.Axis(scale=self.bq_xscale)\n",
    "        self.bq_yax = bq.Axis(scale=self.bq_yscale, orientation='vertical')\n",
    "        self.bq_colorax = bq.ColorAxis(scale=self.bq_colorscale)\n",
    "        self.bq_heat = bq.HeatMap(\n",
    "            x=self.x, \n",
    "            y=self.z, \n",
    "            color=(self.cX + self.cY),\n",
    "            scales={\n",
    "                'x': self.bq_xscale,\n",
    "                'y': self.bq_yscale,\n",
    "                'color': self.bq_colorscale\n",
    "            }\n",
    "            \n",
    "        )\n",
    "        self.bq_fig = bq.Figure(\n",
    "            marks=[self.bq_heat],\n",
    "            axes=[\n",
    "                self.bq_xax,\n",
    "                self.bq_yax,\n",
    "                self.bq_colorax\n",
    "            ]\n",
    "        )\n",
    "    \n",
    "    def init_layout(self):\n",
    "        self.children = [\n",
    "            self.title,\n",
    "            ipw.HBox([\n",
    "                self.ipv_fig,\n",
    "                self.bq_fig\n",
    "            ])\n",
    "        ]\n",
    "    \n",
    "    def update_volume_plot(self):\n",
    "        ipv.volshow(\n",
    "            self.func_3d(\n",
    "                self.vX,\n",
    "                self.vY,\n",
    "                self.vZ\n",
    "            )\n",
    "        )\n",
    "    \n",
    "    def plot_plane(self, z):\n",
    "    ipv.plot_trisurf(\n",
    "        [0,0,1,1],\n",
    "        [0,1,0,1],\n",
    "        [z,z,z,z],\n",
    "        triangles=[[0, 2, 3], [0, 3, 1]]\n",
    "    )"
   ]
  }
 ],
 "metadata": {
  "celltoolbar": "Slideshow",
  "kernelspec": {
   "display_name": "Python 3",
   "language": "python",
   "name": "python3"
  },
  "language_info": {
   "codemirror_mode": {
    "name": "ipython",
    "version": 3
   },
   "file_extension": ".py",
   "mimetype": "text/x-python",
   "name": "python",
   "nbconvert_exporter": "python",
   "pygments_lexer": "ipython3",
   "version": "3.5.3"
  }
 },
 "nbformat": 4,
 "nbformat_minor": 2
}
