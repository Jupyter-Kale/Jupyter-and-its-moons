{
 "cells": [
  {
   "cell_type": "markdown",
   "metadata": {},
   "source": [
    "# Notebooks"
   ]
  },
  {
   "cell_type": "markdown",
   "metadata": {},
   "source": [
    "Notebooks are documents representing all input and output of operations. This includes code, text input and  numerical, text and rich media output. These files have **ipynb** extensions."
   ]
  },
  {
   "cell_type": "markdown",
   "metadata": {},
   "source": [
    "# Cells"
   ]
  },
  {
   "cell_type": "markdown",
   "metadata": {},
   "source": [
    "Cells can contain code or documentation. We will explore working with cells."
   ]
  },
  {
   "cell_type": "markdown",
   "metadata": {},
   "source": [
    "## Markdown Cells"
   ]
  },
  {
   "cell_type": "markdown",
   "metadata": {},
   "source": [
    "This is a markdown cell. In can contain:\n",
    "\n",
    "- Markdown language\n",
    "- HTML\n",
    "- LATEX\n",
    "\n",
    "```markdown\n",
    "**Markdown** *Text*\n",
    "<strong>HTML formula</strong>\n",
    "$LATEX%\n",
    "```\n",
    "**Markdown** *Text*\n",
    "\n",
    "<strong>HTML</strong>\n",
    "\n",
    "$LATEX formula$"
   ]
  },
  {
   "cell_type": "markdown",
   "metadata": {},
   "source": [
    "## Code Cells"
   ]
  },
  {
   "cell_type": "markdown",
   "metadata": {},
   "source": [
    "Contain runnable code that executes in a kernel (such as python)"
   ]
  },
  {
   "cell_type": "code",
   "execution_count": 1,
   "metadata": {},
   "outputs": [
    {
     "data": {
      "text/plain": [
       "8"
      ]
     },
     "execution_count": 1,
     "metadata": {},
     "output_type": "execute_result"
    }
   ],
   "source": [
    "3+5"
   ]
  },
  {
   "cell_type": "code",
   "execution_count": 2,
   "metadata": {},
   "outputs": [
    {
     "data": {
      "text/plain": [
       "8"
      ]
     },
     "execution_count": 2,
     "metadata": {},
     "output_type": "execute_result"
    }
   ],
   "source": [
    "1+2\n",
    "3+5"
   ]
  },
  {
   "cell_type": "code",
   "execution_count": 3,
   "metadata": {},
   "outputs": [
    {
     "data": {
      "text/plain": [
       "3"
      ]
     },
     "execution_count": 3,
     "metadata": {},
     "output_type": "execute_result"
    }
   ],
   "source": [
    "x = 1\n",
    "y = 2\n",
    "\n",
    "x + y"
   ]
  },
  {
   "cell_type": "code",
   "execution_count": 4,
   "metadata": {},
   "outputs": [
    {
     "data": {
      "text/plain": [
       "3"
      ]
     },
     "execution_count": 4,
     "metadata": {},
     "output_type": "execute_result"
    }
   ],
   "source": [
    "z = x + y\n",
    "z"
   ]
  },
  {
   "cell_type": "markdown",
   "metadata": {},
   "source": [
    "## Magics"
   ]
  },
  {
   "cell_type": "markdown",
   "metadata": {},
   "source": [
    "Magics are special iPython/Jupyter commands that let you do useful things. The single % is a one-line magic that simply executes the command on that line. The double %% magic tells Jupyter to expect a script or set of inputs in the rest of the cell."
   ]
  },
  {
   "cell_type": "markdown",
   "metadata": {},
   "source": [
    "eg. Print connection info"
   ]
  },
  {
   "cell_type": "code",
   "execution_count": 5,
   "metadata": {},
   "outputs": [
    {
     "name": "stdout",
     "output_type": "stream",
     "text": [
      "{\n",
      "  \"shell_port\": 61352,\n",
      "  \"iopub_port\": 61353,\n",
      "  \"stdin_port\": 61354,\n",
      "  \"control_port\": 61355,\n",
      "  \"hb_port\": 61356,\n",
      "  \"ip\": \"127.0.0.1\",\n",
      "  \"key\": \"52547162-785a328c1c5f891a7b82142b\",\n",
      "  \"transport\": \"tcp\",\n",
      "  \"signature_scheme\": \"hmac-sha256\",\n",
      "  \"kernel_name\": \"\"\n",
      "}\n",
      "\n",
      "Paste the above JSON into a file, and connect with:\n",
      "    $> jupyter <app> --existing <file>\n",
      "or, if you are local, you can connect with just:\n",
      "    $> jupyter <app> --existing kernel-ee09d742-f1bd-4fd8-98a0-eea9eec0443b.json\n",
      "or even just:\n",
      "    $> jupyter <app> --existing\n",
      "if this is the most recent Jupyter kernel you have started.\n"
     ]
    }
   ],
   "source": [
    "%connect_info"
   ]
  },
  {
   "cell_type": "code",
   "execution_count": 6,
   "metadata": {},
   "outputs": [
    {
     "name": "stdout",
     "output_type": "stream",
     "text": [
      "File `test.foo.py` exists. Overwrite (y/[N])?  y\n",
      "The following commands were written to file `test.foo.py`:\n",
      "import foo\n"
     ]
    }
   ],
   "source": [
    "hello = \"import foo\"\n",
    "%save test.foo hello"
   ]
  },
  {
   "cell_type": "markdown",
   "metadata": {},
   "source": [
    "Execute some bash code"
   ]
  },
  {
   "cell_type": "code",
   "execution_count": 7,
   "metadata": {},
   "outputs": [
    {
     "name": "stdout",
     "output_type": "stream",
     "text": [
      "01_Jupyter-and-its-Moons.pdf\n",
      "01b_History.ipynb\n",
      "01b_History.slides.html\n",
      "02_Introduction-To-Jupyter.ipynb\n",
      "03_File-Broswer.pdf\n",
      "04_Super-Fast-Python.ipynb\n",
      "08_Sharing-Notebooks.ipynb\n",
      "10_Jupyterhub-Tutorial.pdf\n",
      "10_Kernels-and-Customizations.pdf\n",
      "10b_Kernels-Py27.ipynb\n",
      "10c_R_demo.ipynb\n",
      "README.md\n",
      "TODO.txt\n",
      "images\n",
      "python-tutorial\n",
      "test.foo.py\n",
      "** Creating New File **\n",
      "01_Jupyter-and-its-Moons.pdf\n",
      "01b_History.ipynb\n",
      "01b_History.slides.html\n",
      "02_Introduction-To-Jupyter.ipynb\n",
      "03_File-Broswer.pdf\n",
      "04_Super-Fast-Python.ipynb\n",
      "08_Sharing-Notebooks.ipynb\n",
      "10_Jupyterhub-Tutorial.pdf\n",
      "10_Kernels-and-Customizations.pdf\n",
      "10b_Kernels-Py27.ipynb\n",
      "10c_R_demo.ipynb\n",
      "README.md\n",
      "TODO.txt\n",
      "images\n",
      "python-tutorial\n",
      "test.foo.py\n",
      "test.txt\n",
      "** Deleting New File **\n"
     ]
    }
   ],
   "source": [
    "%%bash\n",
    "ls\n",
    "echo \"** Creating New File **\"\n",
    "touch test.txt\n",
    "ls\n",
    "echo \"** Deleting New File **\"\n",
    "rm test.txt"
   ]
  },
  {
   "cell_type": "markdown",
   "metadata": {},
   "source": [
    "Render some HTML"
   ]
  },
  {
   "cell_type": "code",
   "execution_count": 8,
   "metadata": {},
   "outputs": [
    {
     "data": {
      "text/html": [
       "<ul><li>my list</li>\n",
       "<li>now <b>bold</b></li>\n",
       "</ul>"
      ],
      "text/plain": [
       "<IPython.core.display.HTML object>"
      ]
     },
     "metadata": {},
     "output_type": "display_data"
    }
   ],
   "source": [
    "%%html\n",
    "<ul><li>my list</li>\n",
    "<li>now <b>bold</b></li>\n",
    "</ul>"
   ]
  },
  {
   "cell_type": "markdown",
   "metadata": {},
   "source": [
    "The ! is shorthand for shell execution "
   ]
  },
  {
   "cell_type": "code",
   "execution_count": 9,
   "metadata": {},
   "outputs": [
    {
     "name": "stdout",
     "output_type": "stream",
     "text": [
      "01_Jupyter-and-its-Moons.pdf      10_Kernels-and-Customizations.pdf\r\n",
      "01b_History.ipynb                 10b_Kernels-Py27.ipynb\r\n",
      "01b_History.slides.html           10c_R_demo.ipynb\r\n",
      "02_Introduction-To-Jupyter.ipynb  README.md\r\n",
      "03_File-Broswer.pdf               TODO.txt\r\n",
      "04_Super-Fast-Python.ipynb        \u001b[34mimages\u001b[m\u001b[m\r\n",
      "08_Sharing-Notebooks.ipynb        \u001b[34mpython-tutorial\u001b[m\u001b[m\r\n",
      "10_Jupyterhub-Tutorial.pdf        test.foo.py\r\n"
     ]
    }
   ],
   "source": [
    "!ls"
   ]
  },
  {
   "cell_type": "markdown",
   "metadata": {},
   "source": [
    "%sx is shorthand for shell execute and capture"
   ]
  },
  {
   "cell_type": "code",
   "execution_count": 10,
   "metadata": {
    "collapsed": true
   },
   "outputs": [],
   "source": [
    "a = %sx ls"
   ]
  },
  {
   "cell_type": "code",
   "execution_count": 11,
   "metadata": {},
   "outputs": [
    {
     "data": {
      "text/plain": [
       "['01_Jupyter-and-its-Moons.pdf',\n",
       " '01b_History.ipynb',\n",
       " '01b_History.slides.html',\n",
       " '02_Introduction-To-Jupyter.ipynb',\n",
       " '03_File-Broswer.pdf',\n",
       " '04_Super-Fast-Python.ipynb',\n",
       " '08_Sharing-Notebooks.ipynb',\n",
       " '10_Jupyterhub-Tutorial.pdf',\n",
       " '10_Kernels-and-Customizations.pdf',\n",
       " '10b_Kernels-Py27.ipynb',\n",
       " '10c_R_demo.ipynb',\n",
       " 'README.md',\n",
       " 'TODO.txt',\n",
       " 'images',\n",
       " 'python-tutorial',\n",
       " 'test.foo.py']"
      ]
     },
     "execution_count": 11,
     "metadata": {},
     "output_type": "execute_result"
    }
   ],
   "source": [
    "a"
   ]
  },
  {
   "cell_type": "markdown",
   "metadata": {},
   "source": [
    "# Raw NBConvert"
   ]
  },
  {
   "cell_type": "markdown",
   "metadata": {},
   "source": [
    "These cells are like markdown but they do not render their input."
   ]
  },
  {
   "cell_type": "raw",
   "metadata": {},
   "source": [
    "This is a Raw NBConvert cell.\n",
    "\n",
    "It doesn't render its contents like\n",
    "**Markdown**\n",
    "<strong>HTML</strong>\n",
    "$LATEX$\n",
    "\n",
    "The problem with them is they may render come in IPython NBViwer."
   ]
  },
  {
   "cell_type": "markdown",
   "metadata": {},
   "source": [
    "# Headings"
   ]
  },
  {
   "cell_type": "markdown",
   "metadata": {},
   "source": [
    "Heading cells are great for creating bookmarks in an IPython Notebook. You can hover over headings to find their link. Usually it is capitalized slug of the title text. This helps in linking to a specific part of a notebook. \n",
    "\n",
    "Jupyter no longer uses special heading cells. Instead, write your headings in Markdown cells using # characters:\n",
    "\n",
    "## This is a level 2 heading"
   ]
  },
  {
   "cell_type": "markdown",
   "metadata": {},
   "source": [
    "# Head 1"
   ]
  },
  {
   "cell_type": "markdown",
   "metadata": {},
   "source": [
    "## Head 2"
   ]
  },
  {
   "cell_type": "markdown",
   "metadata": {},
   "source": [
    "### Head 3"
   ]
  },
  {
   "cell_type": "markdown",
   "metadata": {},
   "source": [
    "#### Head 4"
   ]
  },
  {
   "cell_type": "markdown",
   "metadata": {},
   "source": [
    "##### Head 5"
   ]
  },
  {
   "cell_type": "markdown",
   "metadata": {},
   "source": [
    "###### Head 6"
   ]
  },
  {
   "cell_type": "markdown",
   "metadata": {},
   "source": [
    "## Linking to a heading"
   ]
  },
  {
   "cell_type": "markdown",
   "metadata": {},
   "source": [
    "Linking to a heading is like linking to an HTML Bookmark. You can do that like this:\n",
    "\n",
    "###Relative links:\n",
    "```HTML\n",
    "<a href=\"#Head-1\">Link to Head 1</a>\n",
    "```\n",
    "\n",
    "<a href=\"#Head-1\">Link to Head 1</a>\n",
    "\n",
    "###Absolute links:\n",
    "```HTML\n",
    "<a href=\"http://nbviewwer/notebooks/01_Introduction-To-Jupyter.ipynb#Head-1\">Link to Head 1</a>\n",
    "```\n",
    "<a href=\"http://nbviewwer/notebooks/01_Introduction-To-Jupyter.ipynb#Head-1\">Link to Head 1</a>"
   ]
  },
  {
   "cell_type": "markdown",
   "metadata": {},
   "source": [
    "Click on the ¶ next to the heading cell to see the link"
   ]
  },
  {
   "cell_type": "markdown",
   "metadata": {},
   "source": [
    "# Tab Completion\n",
    "\n",
    "Jupyter supports tab completion"
   ]
  },
  {
   "cell_type": "code",
   "execution_count": 12,
   "metadata": {
    "collapsed": true
   },
   "outputs": [],
   "source": [
    "import numpy"
   ]
  },
  {
   "cell_type": "code",
   "execution_count": 13,
   "metadata": {
    "collapsed": true
   },
   "outputs": [],
   "source": [
    "# Type numpy.ar and hit TAB \n"
   ]
  },
  {
   "cell_type": "markdown",
   "metadata": {},
   "source": [
    "# Help"
   ]
  },
  {
   "cell_type": "markdown",
   "metadata": {},
   "source": [
    "For help in ipython simply type a question mark after the function/class you need help on"
   ]
  },
  {
   "cell_type": "code",
   "execution_count": 14,
   "metadata": {
    "collapsed": true
   },
   "outputs": [],
   "source": [
    "# Type ? and hit shift+enter after\n",
    "numpy.array?"
   ]
  },
  {
   "cell_type": "markdown",
   "metadata": {},
   "source": [
    "# Syntax Highlighting, Indentation ... and plotting!"
   ]
  },
  {
   "cell_type": "code",
   "execution_count": 15,
   "metadata": {},
   "outputs": [
    {
     "name": "stdout",
     "output_type": "stream",
     "text": [
      "0\n",
      "1\n",
      "2\n",
      "3\n",
      "4\n",
      "5\n",
      "6\n",
      "7\n",
      "8\n",
      "9\n"
     ]
    }
   ],
   "source": [
    "for i in range(10):\n",
    "    print(i)"
   ]
  },
  {
   "cell_type": "code",
   "execution_count": 18,
   "metadata": {},
   "outputs": [
    {
     "data": {
      "text/plain": [
       "<matplotlib.lines.Line2D at 0x1117b0358>"
      ]
     },
     "execution_count": 18,
     "metadata": {},
     "output_type": "execute_result"
    },
    {
     "data": {
      "image/png": "[encoded data removed]",
      "text/plain": [
       "<matplotlib.figure.Figure at 0x11134b4a8>"
      ]
     },
     "metadata": {},
     "output_type": "display_data"
    }
   ],
   "source": [
    "# From http://nbviewer.jupyter.org/github/mbakker7/exploratory_computing_with_python/blob/master/notebook5_rootfinding/py_exploratory_comp_5_sol.ipynb\n",
    "\n",
    "import numpy as np\n",
    "import matplotlib.pyplot as plt\n",
    "%matplotlib inline\n",
    "\n",
    "def f(x):\n",
    "    return 0.5 - np.exp(-x)\n",
    "\n",
    "x = np.linspace(0, 4, 100)\n",
    "y = f(x)\n",
    "plt.plot(x, y)\n",
    "plt.axhline(0, color='r', ls='--')"
   ]
  },
  {
   "cell_type": "markdown",
   "metadata": {},
   "source": [
    "# Enjoy exploring planet Jupyter\n",
    "\n",
    "See also: https://github.com/jupyter/jupyter/wiki/A-gallery-of-interesting-Jupyter-Notebooks#programming-and-computer-science"
   ]
  },
  {
   "cell_type": "code",
   "execution_count": null,
   "metadata": {
    "collapsed": true
   },
   "outputs": [],
   "source": []
  }
 ],
 "metadata": {
  "kernelspec": {
   "display_name": "Python 3",
   "language": "python",
   "name": "python3"
  },
  "language_info": {
   "codemirror_mode": {
    "name": "ipython",
    "version": 3
   },
   "file_extension": ".py",
   "mimetype": "text/x-python",
   "name": "python",
   "nbconvert_exporter": "python",
   "pygments_lexer": "ipython3",
   "version": "3.6.2"
  }
 },
 "nbformat": 4,
 "nbformat_minor": 1
}
