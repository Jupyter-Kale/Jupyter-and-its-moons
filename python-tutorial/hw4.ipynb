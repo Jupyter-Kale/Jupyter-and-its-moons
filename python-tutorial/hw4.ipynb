{
 "cells": [
  {
   "cell_type": "code",
   "execution_count": 1,
   "metadata": {
    "collapsed": true
   },
   "outputs": [],
   "source": [
    "from numpy import *\n",
    "from matplotlib.pyplot import *\n",
    "from scipy.special import ellipk"
   ]
  },
  {
   "cell_type": "code",
   "execution_count": 6,
   "metadata": {
    "collapsed": true
   },
   "outputs": [],
   "source": [
    "%matplotlib inline"
   ]
  },
  {
   "cell_type": "code",
   "execution_count": 25,
   "metadata": {},
   "outputs": [
    {
     "data": {
      "image/png": "[encoded data removed]",
      "text/plain": [
       "<matplotlib.figure.Figure at 0x7f85c10cc5f8>"
      ]
     },
     "metadata": {},
     "output_type": "display_data"
    }
   ],
   "source": [
    "Phi = linspace(0,3,101)\n",
    "scaled_period = 2/pi * ellipk(sin(Phi/2)**2)\n",
    "plot(Phi, scaled_period)\n",
    "xlabel(r'$\\Phi$ (amplitude, radians)')\n",
    "ylabel(r'$\\tau/\\tau_0$ (period, seconds)')\n",
    "savefig('hw4_fig.pdf')"
   ]
  },
  {
   "cell_type": "code",
   "execution_count": 23,
   "metadata": {},
   "outputs": [],
   "source": [
    "savefig?"
   ]
  },
  {
   "cell_type": "code",
   "execution_count": 20,
   "metadata": {},
   "outputs": [
    {
     "name": "stdout",
     "output_type": "stream",
     "text": [
      "\n",
      "** (evince:3220): \u001b[1;33mWARNING\u001b[0m **: Error when getting information for file “/home/oliver/academic/classes/fall17/mechanics/hw4.pdf”: No such file or directory\n",
      "\n",
      "** (evince:3220): \u001b[1;33mWARNING\u001b[0m **: Error setting file metadata: No such file or directory\n",
      "\n",
      "** (evince:3220): \u001b[1;33mWARNING\u001b[0m **: Error setting file metadata: No such file or directory\n",
      "\n",
      "** (evince:3220): \u001b[1;33mWARNING\u001b[0m **: Error setting file metadata: No such file or directory\n",
      "\n",
      "** (evince:3220): \u001b[1;33mWARNING\u001b[0m **: Error setting file metadata: No such file or directory\n",
      "\n",
      "** (evince:3220): \u001b[1;33mWARNING\u001b[0m **: Error setting file metadata: No such file or directory\n",
      "\n",
      "** (evince:3220): \u001b[1;33mWARNING\u001b[0m **: Error setting file metadata: No such file or directory\n",
      "\n",
      "** (evince:3220): \u001b[1;33mWARNING\u001b[0m **: Error setting file metadata: No such file or directory\n",
      "\n",
      "** (evince:3220): \u001b[1;33mWARNING\u001b[0m **: Error setting file metadata: No such file or directory\n",
      "\n",
      "** (evince:3220): \u001b[1;33mWARNING\u001b[0m **: Error setting file metadata: No such file or directory\n",
      "\n",
      "** (evince:3220): \u001b[1;33mWARNING\u001b[0m **: Error setting file metadata: No such file or directory\n",
      "\n",
      "** (evince:3220): \u001b[1;33mWARNING\u001b[0m **: Error setting file metadata: No such file or directory\n"
     ]
    }
   ],
   "source": [
    "!evince hw4.pdf"
   ]
  },
  {
   "cell_type": "code",
   "execution_count": 11,
   "metadata": {},
   "outputs": [],
   "source": [
    "beta = 2*pi * sqrt(1 - 1/1.001)"
   ]
  },
  {
   "cell_type": "code",
   "execution_count": 12,
   "metadata": {},
   "outputs": [
    {
     "data": {
      "text/plain": [
       "1.987910863745054"
      ]
     },
     "execution_count": 12,
     "metadata": {},
     "output_type": "execute_result"
    }
   ],
   "source": [
    "10.01 * beta"
   ]
  },
  {
   "cell_type": "code",
   "execution_count": 15,
   "metadata": {},
   "outputs": [
    {
     "data": {
      "text/plain": [
       "0.86301870067452358"
      ]
     },
     "execution_count": 15,
     "metadata": {},
     "output_type": "execute_result"
    }
   ],
   "source": [
    "1-exp(-10.01 * beta)"
   ]
  },
  {
   "cell_type": "code",
   "execution_count": null,
   "metadata": {
    "collapsed": true
   },
   "outputs": [],
   "source": []
  }
 ],
 "metadata": {
  "kernelspec": {
   "display_name": "Python 3",
   "language": "python",
   "name": "python3"
  },
  "language_info": {
   "codemirror_mode": {
    "name": "ipython",
    "version": 3
   },
   "file_extension": ".py",
   "mimetype": "text/x-python",
   "name": "python",
   "nbconvert_exporter": "python",
   "pygments_lexer": "ipython3",
   "version": "3.5.3"
  }
 },
 "nbformat": 4,
 "nbformat_minor": 2
}
