{
 "cells": [
  {
   "cell_type": "markdown",
   "metadata": {},
   "source": [
    "# Python for Scientific Computing\n",
    "\n",
    "## Introduction\n",
    "- [History](history.ipynb)\n",
    "- [Python Syntax](syntax.ipynb)\n",
    "- [Some Useful Packages](packages.ipynb)\n",
    "\n",
    "## Special Topics\n",
    "- [Interactive Widgets](widgets.ipynb)\n",
    "- [Parallelism](parallel.ipynb)\n",
    "- [Other Kernels](kernels.ipynb)\n",
    "- [JupyterLab / JupyterHub / NBGrader](labhubgrader.ipynb)\n",
    "\n",
    "## Live Demos\n",
    "- [Mechanics Homework](hw4.ipynb)\n",
    "- [Kelp Research](/notebooks/academic/research/kelp/python/kelp3d.ipynb)\n",
    "- [Droplet Research](http://localhost:8889/notebooks/lammps/sapphire/analysis/python/comparison.ipynb)"
   ]
  },
  {
   "cell_type": "code",
   "execution_count": 1,
   "metadata": {},
   "outputs": [
    {
     "data": {
      "text/plain": [
       "0.029940119760479042"
      ]
     },
     "execution_count": 1,
     "metadata": {},
     "output_type": "execute_result"
    }
   ],
   "source": [
    "15/501"
   ]
  },
  {
   "cell_type": "code",
   "execution_count": 2,
   "metadata": {},
   "outputs": [
    {
     "data": {
      "text/plain": [
       "0.01999600079984003"
      ]
     },
     "execution_count": 2,
     "metadata": {},
     "output_type": "execute_result"
    }
   ],
   "source": [
    "100/5001"
   ]
  },
  {
   "cell_type": "code",
   "execution_count": null,
   "metadata": {
    "collapsed": true
   },
   "outputs": [],
   "source": []
  }
 ],
 "metadata": {
  "kernelspec": {
   "display_name": "Python 3",
   "language": "python",
   "name": "python3"
  },
  "language_info": {
   "codemirror_mode": {
    "name": "ipython",
    "version": 3
   },
   "file_extension": ".py",
   "mimetype": "text/x-python",
   "name": "python",
   "nbconvert_exporter": "python",
   "pygments_lexer": "ipython3",
   "version": "3.5.3"
  }
 },
 "nbformat": 4,
 "nbformat_minor": 2
}
