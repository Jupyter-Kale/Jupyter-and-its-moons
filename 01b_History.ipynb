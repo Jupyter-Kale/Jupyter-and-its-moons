{
 "cells": [
  {
   "cell_type": "markdown",
   "metadata": {
    "slideshow": {
     "slide_type": "slide"
    }
   },
   "source": [
    "# A Brief History of Modern Scientific Computing"
   ]
  },
  {
   "cell_type": "markdown",
   "metadata": {
    "slideshow": {
     "slide_type": "slide"
    }
   },
   "source": [
    "# Fortran 77\n",
    "- \"Formula translator\"\n",
    "- Compiled\n",
    "- Punch cards\n",
    "- Case insensitive\n",
    "- Fixed format"
   ]
  },
  {
   "cell_type": "markdown",
   "metadata": {
    "slideshow": {
     "slide_type": "subslide"
    }
   },
   "source": [
    "```fortran\n",
    "c     euclid.f (FORTRAN 77)\n",
    "c     Find greatest common divisor using the Euclidean algorithm\n",
    "\n",
    "      PROGRAM EUCLID\n",
    "        PRINT *, 'A?'\n",
    "        READ *, NA\n",
    "        IF (NA.LE.0) THEN\n",
    "          PRINT *, 'A must be a positive integer.'\n",
    "          STOP\n",
    "        END IF\n",
    "        PRINT *, 'B?'\n",
    "        READ *, NB\n",
    "        IF (NB.LE.0) THEN\n",
    "          PRINT *, 'B must be a positive integer.'\n",
    "          STOP\n",
    "        END IF\n",
    "        PRINT *, 'The GCD of', NA, ' and', NB, ' is', NGCD(NA, NB), '.'\n",
    "        STOP\n",
    "      END\n",
    "\n",
    "      FUNCTION NGCD(NA, NB)\n",
    "        IA = NA\n",
    "        IB = NB\n",
    "    1   IF (IB.NE.0) THEN\n",
    "          ITEMP = IA\n",
    "          IA = IB\n",
    "          IB = MOD(ITEMP, IB)\n",
    "          GOTO 1\n",
    "        END IF\n",
    "        NGCD = IA\n",
    "        RETURN\n",
    "      END\n",
    "```"
   ]
  },
  {
   "cell_type": "markdown",
   "metadata": {
    "slideshow": {
     "slide_type": "slide"
    }
   },
   "source": [
    "# C\n",
    "- Case sensitive\n",
    "- Compiled\n",
    "- Very fast\n",
    "- Free form source\n",
    "- Pointers\n",
    "- Not as convenient for math"
   ]
  },
  {
   "cell_type": "markdown",
   "metadata": {
    "slideshow": {
     "slide_type": "subslide"
    }
   },
   "source": [
    "```C\n",
    "#include <stdio.h>\n",
    " \n",
    "main()\n",
    "{\n",
    "   int n, c;\n",
    " \n",
    "   printf(\"Enter a number\\n\");\n",
    "   scanf(\"%d\", &n);\n",
    " \n",
    "   if ( n == 2 )\n",
    "      printf(\"Prime number.\\n\");\n",
    "   else\n",
    "   {\n",
    "       for ( c = 2 ; c <= n - 1 ; c++ )\n",
    "       {\n",
    "           if ( n % c == 0 )\n",
    "              break;\n",
    "       }\n",
    "       if ( c != n )\n",
    "          printf(\"Not prime.\\n\");\n",
    "       else\n",
    "          printf(\"Prime number.\\n\");\n",
    "   }\n",
    "   return 0;\n",
    "}\n",
    "```"
   ]
  },
  {
   "cell_type": "markdown",
   "metadata": {
    "slideshow": {
     "slide_type": "slide"
    }
   },
   "source": [
    "# C++\n",
    "- Object orientation!"
   ]
  },
  {
   "cell_type": "markdown",
   "metadata": {
    "slideshow": {
     "slide_type": "subslide"
    }
   },
   "source": [
    "```C++\n",
    "class Abc\n",
    "{\n",
    " int i;           //data variable\n",
    " void display()         //Member Function\n",
    "  { \n",
    "   cout<<\"Inside Member Function\";\n",
    "  }\n",
    "}; // Class ends here\n",
    "\n",
    "int main()\n",
    "{\n",
    " Abc obj;  // Creatig Abc class's object\n",
    " obj.display();  //Calling member function using class object\n",
    "}\n",
    "```\n",
    "http://www.studytonight.com/cpp/basics-of-cpp.php"
   ]
  },
  {
   "cell_type": "markdown",
   "metadata": {
    "slideshow": {
     "slide_type": "slide"
    }
   },
   "source": [
    "# Matlab\n",
    "- Interpreted\n",
    "- Easy to do math\n",
    "- Automatic memory management\n",
    "- Proprietary"
   ]
  },
  {
   "cell_type": "markdown",
   "metadata": {
    "slideshow": {
     "slide_type": "subslide"
    }
   },
   "source": [
    "![matlab](http://mcx.sourceforge.net/upload/matlab_mcxlab.png)"
   ]
  },
  {
   "cell_type": "markdown",
   "metadata": {
    "slideshow": {
     "slide_type": "slide"
    }
   },
   "source": [
    "# Mathematica\n",
    "- Notebook format\n",
    "- Symbolic computation\n",
    "- Interactivity\n",
    "- Proprietary"
   ]
  },
  {
   "cell_type": "markdown",
   "metadata": {
    "slideshow": {
     "slide_type": "subslide"
    }
   },
   "source": [
    "![mathematica](https://i.stack.imgur.com/S02Zo.gif)"
   ]
  },
  {
   "cell_type": "markdown",
   "metadata": {
    "collapsed": true,
    "slideshow": {
     "slide_type": "slide"
    }
   },
   "source": [
    "# Python (1990)\n",
    "- FREE (As in beer AND as in speech)\n",
    "- Numerical / Symbolic Computation\n",
    "- Interpreted\n",
    "- Large scientific community\n",
    "- Modular - third party packages"
   ]
  },
  {
   "cell_type": "markdown",
   "metadata": {
    "slideshow": {
     "slide_type": "slide"
    }
   },
   "source": [
    "# Meanwhile, the internet...\n",
    "- WWW (1989)\n",
    "- HTML (1990)\n",
    "- Java (1995)\n",
    "- Javascript (1995)\n",
    "- PHP (1995)"
   ]
  },
  {
   "cell_type": "markdown",
   "metadata": {
    "slideshow": {
     "slide_type": "slide"
    }
   },
   "source": [
    "# IPython\n",
    "- IPython interpreter (2001)\n",
    "- Jupyter (2014)"
   ]
  },
  {
   "cell_type": "markdown",
   "metadata": {
    "slideshow": {
     "slide_type": "subslide"
    }
   },
   "source": [
    "![history notebook](https://raw.githubusercontent.com/Jupyter-Kale/Jupyter-and-its-moons/master/images/history.png)"
   ]
  },
  {
   "cell_type": "code",
   "execution_count": null,
   "metadata": {
    "slideshow": {
     "slide_type": "skip"
    }
   },
   "outputs": [
    {
     "name": "stdout",
     "output_type": "stream",
     "text": [
      "[NbConvertApp] Converting notebook 03_History.ipynb to slides\n",
      "[NbConvertApp] Writing 266738 bytes to 03_History.slides.html\n",
      "[NbConvertApp] Redirecting reveal.js requests to https://cdnjs.cloudflare.com/ajax/libs/reveal.js/3.5.0\n",
      "Serving your slides at http://127.0.0.1:8000/03_History.slides.html\n",
      "Use Control-C to stop this server\n",
      "WARNING:tornado.access:404 GET /custom.css (127.0.0.1) 0.47ms\n",
      "WARNING:tornado.access:404 GET /custom.css (127.0.0.1) 0.53ms\n"
     ]
    }
   ],
   "source": [
    "!jupyter nbconvert 01b_History.ipynb --to slides --post serve"
   ]
  },
  {
   "cell_type": "code",
   "execution_count": null,
   "metadata": {
    "collapsed": true
   },
   "outputs": [],
   "source": []
  }
 ],
 "metadata": {
  "celltoolbar": "Slideshow",
  "kernelspec": {
   "display_name": "Python 3",
   "language": "python",
   "name": "python3"
  },
  "language_info": {
   "codemirror_mode": {
    "name": "ipython",
    "version": 3
   },
   "file_extension": ".py",
   "mimetype": "text/x-python",
   "name": "python",
   "nbconvert_exporter": "python",
   "pygments_lexer": "ipython3",
   "version": "3.6.2"
  }
 },
 "nbformat": 4,
 "nbformat_minor": 2
}
