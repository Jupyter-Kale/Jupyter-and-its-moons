{
 "cells": [
  {
   "cell_type": "markdown",
   "metadata": {
    "slideshow": {
     "slide_type": "slide"
    }
   },
   "source": [
    "# A Brief History of Modern Scientific Computing"
   ]
  },
  {
   "cell_type": "markdown",
   "metadata": {
    "slideshow": {
     "slide_type": "slide"
    }
   },
   "source": [
    "# Fortran 77\n",
    "- \"Formula translator\"\n",
    "- Compiled\n",
    "- Punched cards\n",
    "- Case insensitive\n",
    "- Fixed format"
   ]
  },
  {
   "cell_type": "markdown",
   "metadata": {
    "slideshow": {
     "slide_type": "slide"
    }
   },
   "source": [
    "```fortran\n",
    "c     euclid.f (FORTRAN 77)\n",
    "c     Find greatest common divisor using the Euclidean algorithm\n",
    "\n",
    "      PROGRAM EUCLID\n",
    "        PRINT *, 'A?'\n",
    "        READ *, NA\n",
    "        IF (NA.LE.0) THEN\n",
    "          PRINT *, 'A must be a positive integer.'\n",
    "          STOP\n",
    "        END IF\n",
    "        PRINT *, 'B?'\n",
    "        READ *, NB\n",
    "        IF (NB.LE.0) THEN\n",
    "          PRINT *, 'B must be a positive integer.'\n",
    "          STOP\n",
    "        END IF\n",
    "        PRINT *, 'The GCD of', NA, ' and', NB, ' is', NGCD(NA, NB), '.'\n",
    "        STOP\n",
    "      END\n",
    "\n",
    "      FUNCTION NGCD(NA, NB)\n",
    "        IA = NA\n",
    "        IB = NB\n",
    "    1   IF (IB.NE.0) THEN\n",
    "          ITEMP = IA\n",
    "          IA = IB\n",
    "          IB = MOD(ITEMP, IB)\n",
    "          GOTO 1\n",
    "        END IF\n",
    "        NGCD = IA\n",
    "        RETURN\n",
    "      END\n",
    "```"
   ]
  },
  {
   "cell_type": "markdown",
   "metadata": {
    "slideshow": {
     "slide_type": "slide"
    }
   },
   "source": [
    "# C\n",
    "- Case sensitive\n",
    "- Compiled\n",
    "- Very fast\n",
    "- Free form source\n",
    "- Pointers\n",
    "- Not as convenient for math"
   ]
  },
  {
   "cell_type": "markdown",
   "metadata": {
    "slideshow": {
     "slide_type": "slide"
    }
   },
   "source": [
    "```C\n",
    "#include <stdio.h>\n",
    " \n",
    "main()\n",
    "{\n",
    "   int n, c;\n",
    " \n",
    "   printf(\"Enter a number\\n\");\n",
    "   scanf(\"%d\", &n);\n",
    " \n",
    "   if ( n == 2 )\n",
    "      printf(\"Prime number.\\n\");\n",
    "   else\n",
    "   {\n",
    "       for ( c = 2 ; c <= n - 1 ; c++ )\n",
    "       {\n",
    "           if ( n % c == 0 )\n",
    "              break;\n",
    "       }\n",
    "       if ( c != n )\n",
    "          printf(\"Not prime.\\n\");\n",
    "       else\n",
    "          printf(\"Prime number.\\n\");\n",
    "   }\n",
    "   return 0;\n",
    "}\n",
    "```"
   ]
  },
  {
   "cell_type": "markdown",
   "metadata": {
    "slideshow": {
     "slide_type": "slide"
    }
   },
   "source": [
    "# C++\n",
    "- Object orientation!"
   ]
  },
  {
   "cell_type": "markdown",
   "metadata": {
    "slideshow": {
     "slide_type": "slide"
    }
   },
   "source": [
    "```C++\n",
    "class Abc\n",
    "{\n",
    " int i;           //data variable\n",
    " void display()         //Member Function\n",
    "  { \n",
    "   cout<<\"Inside Member Function\";\n",
    "  }\n",
    "}; // Class ends here\n",
    "\n",
    "int main()\n",
    "{\n",
    " Abc obj;  // Creatig Abc class's object\n",
    " obj.display();  //Calling member function using class object\n",
    "}\n",
    "```\n",
    "http://www.studytonight.com/cpp/basics-of-cpp.php"
   ]
  },
  {
   "cell_type": "markdown",
   "metadata": {
    "slideshow": {
     "slide_type": "slide"
    }
   },
   "source": [
    "# Matlab\n",
    "- Interpreted\n",
    "- Easy to do math\n",
    "- Automatic memory management\n",
    "- Proprietary"
   ]
  },
  {
   "cell_type": "markdown",
   "metadata": {
    "slideshow": {
     "slide_type": "subslide"
    }
   },
   "source": [
    "![matlab](http://mcx.sourceforge.net/upload/matlab_mcxlab.png)"
   ]
  },
  {
   "cell_type": "markdown",
   "metadata": {
    "slideshow": {
     "slide_type": "slide"
    }
   },
   "source": [
    "# Mathematica\n",
    "- Notebook format\n",
    "- Symbolic computation\n",
    "- Interactivity\n",
    "- Proprietary"
   ]
  },
  {
   "cell_type": "markdown",
   "metadata": {
    "slideshow": {
     "slide_type": "slide"
    }
   },
   "source": [
    "![mathematica](https://i.stack.imgur.com/S02Zo.gif)"
   ]
  },
  {
   "cell_type": "markdown",
   "metadata": {
    "collapsed": true,
    "slideshow": {
     "slide_type": "slide"
    }
   },
   "source": [
    "# Python (1990)\n",
    "- FREE (As in beer AND as in speech)\n",
    "- Numerical / Symbolic Computation\n",
    "- Interpreted\n",
    "- Large scientific community\n",
    "- Modular - third party packages"
   ]
  },
  {
   "cell_type": "markdown",
   "metadata": {
    "slideshow": {
     "slide_type": "slide"
    }
   },
   "source": [
    "# Meanwhile, the internet...\n",
    "- WWW (1989)\n",
    "- HTML (1990)\n",
    "- Java (1995)\n",
    "- Javascript (1995)\n",
    "- PHP (1995)"
   ]
  },
  {
   "cell_type": "markdown",
   "metadata": {
    "slideshow": {
     "slide_type": "slide"
    }
   },
   "source": [
    "# IPython\n",
    "- IPython interpreter (2001)\n",
    "- Jupyter (2014)\n",
    "\n",
    "*\"HTTP is the new X11\"*"
   ]
  },
  {
   "cell_type": "markdown",
   "metadata": {
    "slideshow": {
     "slide_type": "subslide"
    }
   },
   "source": [
    "# History Notebook\n",
    "![Notebook](https://raw.githubusercontent.com/Jupyter-Kale/Jupyter-and-its-moons/master/images/history.png)"
   ]
  },
  {
   "cell_type": "markdown",
   "metadata": {
    "slideshow": {
     "slide_type": "slide"
    }
   },
   "source": [
    "# Shoutout to Julia (2012)\n",
    "- **Puts the Ju- in Jupyter!**\n",
    "- Multiple Dispatch\n",
    "- Near-C speeds (JIT compilation)\n",
    "- Call C directly, Python via PyCall\n",
    "- Lisp-like macros\n",
    "- Built-in parallelism\n",
    "- MIT Licensed!"
   ]
  }
 ],
 "metadata": {
  "celltoolbar": "Slideshow",
  "kernelspec": {
   "display_name": "Python 3",
   "language": "python",
   "name": "python3"
  },
  "language_info": {
   "codemirror_mode": {
    "name": "ipython",
    "version": 3
   },
   "file_extension": ".py",
   "mimetype": "text/x-python",
   "name": "python",
   "nbconvert_exporter": "python",
   "pygments_lexer": "ipython3",
   "version": "3.5.3"
  }
 },
 "nbformat": 4,
 "nbformat_minor": 2
}
